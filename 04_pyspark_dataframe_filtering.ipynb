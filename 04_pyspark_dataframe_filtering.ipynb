{
 "cells": [
  {
   "cell_type": "code",
   "execution_count": 1,
   "id": "0c55ae2c",
   "metadata": {},
   "outputs": [],
   "source": [
    "from pyspark.sql import SparkSession"
   ]
  },
  {
   "cell_type": "code",
   "execution_count": 3,
   "id": "1a988288",
   "metadata": {},
   "outputs": [
    {
     "data": {
      "text/html": [
       "\n",
       "            <div>\n",
       "                <p><b>SparkSession - in-memory</b></p>\n",
       "                \n",
       "        <div>\n",
       "            <p><b>SparkContext</b></p>\n",
       "\n",
       "            <p><a href=\"http://192.168.123.35:4041\">Spark UI</a></p>\n",
       "\n",
       "            <dl>\n",
       "              <dt>Version</dt>\n",
       "                <dd><code>v3.3.0</code></dd>\n",
       "              <dt>Master</dt>\n",
       "                <dd><code>local[*]</code></dd>\n",
       "              <dt>AppName</dt>\n",
       "                <dd><code>pyspark_dataframe_filtering</code></dd>\n",
       "            </dl>\n",
       "        </div>\n",
       "        \n",
       "            </div>\n",
       "        "
      ],
      "text/plain": [
       "<pyspark.sql.session.SparkSession at 0x7f884118e880>"
      ]
     },
     "execution_count": 3,
     "metadata": {},
     "output_type": "execute_result"
    }
   ],
   "source": [
    "spark_session = SparkSession.builder.appName(\"pyspark_dataframe_filtering\").getOrCreate()\n",
    "spark_session"
   ]
  },
  {
   "cell_type": "code",
   "execution_count": 5,
   "id": "62a8b783",
   "metadata": {},
   "outputs": [
    {
     "name": "stdout",
     "output_type": "stream",
     "text": [
      "+---------+----------------+---------------+--------------+--------------+-----+-----+\n",
      "|Vendor_ID|     Vendor_Name|        Address|          City|           Fax|Years|Sales|\n",
      "+---------+----------------+---------------+--------------+--------------+-----+-----+\n",
      "|   185227|American Rental |100 Grantley Ct| Sandy Springs|800  -714-7422|    3| 4530|\n",
      "|    16054|    Attema Sales|  117 E 13th St|         Pella|641  -628-4983| null| 2300|\n",
      "|   195852|     B & S Sales|  218 Maquan St|        Hanson|          null|    2| 8000|\n",
      "|    35600|            null|    PO Box 3374|South Pasadena|818  -276-8409|    2| null|\n",
      "|      761|            null|           null|   Lees Summit|816  -524-6983|    5| 5000|\n",
      "+---------+----------------+---------------+--------------+--------------+-----+-----+\n",
      "\n"
     ]
    }
   ],
   "source": [
    "spark_df = (spark_session\n",
    "            .read\n",
    "            .csv(\"file:///mnt/92D26AE0D26AC7D5/Python/pyspark/ararental.csv\", header=True, inferSchema=True))\n",
    "spark_df.show()"
   ]
  },
  {
   "cell_type": "code",
   "execution_count": 6,
   "id": "f61139a9",
   "metadata": {},
   "outputs": [
    {
     "name": "stdout",
     "output_type": "stream",
     "text": [
      "+---------+----------------+---------------+-------------+--------------+-----+-----+\n",
      "|Vendor_ID|     Vendor_Name|        Address|         City|           Fax|Years|Sales|\n",
      "+---------+----------------+---------------+-------------+--------------+-----+-----+\n",
      "|   185227|American Rental |100 Grantley Ct|Sandy Springs|800  -714-7422|    3| 4530|\n",
      "|   195852|     B & S Sales|  218 Maquan St|       Hanson|          null|    2| 8000|\n",
      "|      761|            null|           null|  Lees Summit|816  -524-6983|    5| 5000|\n",
      "+---------+----------------+---------------+-------------+--------------+-----+-----+\n",
      "\n"
     ]
    }
   ],
   "source": [
    "# we can use filter() function with condition as a string\n",
    "spark_df.filter(\"Sales>4000\").show()"
   ]
  },
  {
   "cell_type": "code",
   "execution_count": 9,
   "id": "b1215c18",
   "metadata": {},
   "outputs": [
    {
     "name": "stdout",
     "output_type": "stream",
     "text": [
      "+---------+----------------+---------------+-------------+--------------+-----+-----+\n",
      "|Vendor_ID|     Vendor_Name|        Address|         City|           Fax|Years|Sales|\n",
      "+---------+----------------+---------------+-------------+--------------+-----+-----+\n",
      "|   185227|American Rental |100 Grantley Ct|Sandy Springs|800  -714-7422|    3| 4530|\n",
      "|   195852|     B & S Sales|  218 Maquan St|       Hanson|          null|    2| 8000|\n",
      "|      761|            null|           null|  Lees Summit|816  -524-6983|    5| 5000|\n",
      "+---------+----------------+---------------+-------------+--------------+-----+-----+\n",
      "\n"
     ]
    }
   ],
   "source": [
    "# or we can use directly the condition we want with filter() function\n",
    "spark_df.filter(spark_df[\"Sales\"]>4000).show()"
   ]
  },
  {
   "cell_type": "code",
   "execution_count": 15,
   "id": "5b5d3876",
   "metadata": {},
   "outputs": [
    {
     "name": "stdout",
     "output_type": "stream",
     "text": [
      "+---------+----------------+---------------+-------------+--------------+-----+-----+\n",
      "|Vendor_ID|     Vendor_Name|        Address|         City|           Fax|Years|Sales|\n",
      "+---------+----------------+---------------+-------------+--------------+-----+-----+\n",
      "|   185227|American Rental |100 Grantley Ct|Sandy Springs|800  -714-7422|    3| 4530|\n",
      "|      761|            null|           null|  Lees Summit|816  -524-6983|    5| 5000|\n",
      "+---------+----------------+---------------+-------------+--------------+-----+-----+\n",
      "\n"
     ]
    }
   ],
   "source": [
    "# we can use multiple conditions also\n",
    "spark_df.filter((spark_df[\"Sales\"]>4000) & (spark_df[\"Years\"]>2)).show()"
   ]
  },
  {
   "cell_type": "code",
   "execution_count": 12,
   "id": "08b9d44c",
   "metadata": {},
   "outputs": [
    {
     "name": "stdout",
     "output_type": "stream",
     "text": [
      "+---------+------------+-------------+-----+--------------+-----+-----+\n",
      "|Vendor_ID| Vendor_Name|      Address| City|           Fax|Years|Sales|\n",
      "+---------+------------+-------------+-----+--------------+-----+-----+\n",
      "|    16054|Attema Sales|117 E 13th St|Pella|641  -628-4983| null| 2300|\n",
      "+---------+------------+-------------+-----+--------------+-----+-----+\n",
      "\n"
     ]
    }
   ],
   "source": [
    "# we can use \"NOT\" condition by including \"~\" with the condition we want\n",
    "spark_df.filter(~(spark_df[\"Sales\"]>4000)).show()"
   ]
  },
  {
   "cell_type": "code",
   "execution_count": null,
   "id": "1c86d611",
   "metadata": {},
   "outputs": [],
   "source": []
  }
 ],
 "metadata": {
  "kernelspec": {
   "display_name": "venv",
   "language": "python",
   "name": "venv"
  },
  "language_info": {
   "codemirror_mode": {
    "name": "ipython",
    "version": 3
   },
   "file_extension": ".py",
   "mimetype": "text/x-python",
   "name": "python",
   "nbconvert_exporter": "python",
   "pygments_lexer": "ipython3",
   "version": "3.8.8"
  }
 },
 "nbformat": 4,
 "nbformat_minor": 5
}
