{
 "cells": [
  {
   "cell_type": "code",
   "execution_count": 21,
   "id": "7fea7e40",
   "metadata": {},
   "outputs": [],
   "source": [
    "from pyspark.sql import SparkSession"
   ]
  },
  {
   "cell_type": "code",
   "execution_count": 22,
   "id": "74784216",
   "metadata": {},
   "outputs": [
    {
     "data": {
      "text/html": [
       "\n",
       "            <div>\n",
       "                <p><b>SparkSession - in-memory</b></p>\n",
       "                \n",
       "        <div>\n",
       "            <p><b>SparkContext</b></p>\n",
       "\n",
       "            <p><a href=\"http://192.168.123.35:4040\">Spark UI</a></p>\n",
       "\n",
       "            <dl>\n",
       "              <dt>Version</dt>\n",
       "                <dd><code>v3.3.0</code></dd>\n",
       "              <dt>Master</dt>\n",
       "                <dd><code>local[*]</code></dd>\n",
       "              <dt>AppName</dt>\n",
       "                <dd><code>pyspark_dataframes_group_by_aggregation</code></dd>\n",
       "            </dl>\n",
       "        </div>\n",
       "        \n",
       "            </div>\n",
       "        "
      ],
      "text/plain": [
       "<pyspark.sql.session.SparkSession at 0x7f13a82fe790>"
      ]
     },
     "execution_count": 22,
     "metadata": {},
     "output_type": "execute_result"
    }
   ],
   "source": [
    "spark_session = SparkSession.builder.appName(\"pyspark_dataframes_group_by_aggregation\").getOrCreate()\n",
    "spark_session"
   ]
  },
  {
   "cell_type": "code",
   "execution_count": 23,
   "id": "6458957b",
   "metadata": {},
   "outputs": [
    {
     "name": "stdout",
     "output_type": "stream",
     "text": [
      "+----------------+---------------+--------------+--------------+-----+-----+\n",
      "|     Vendor_Name|        Address|          City|           Fax|Years|Sales|\n",
      "+----------------+---------------+--------------+--------------+-----+-----+\n",
      "|American Rental |100 Grantley Ct| Sandy Springs|800  -714-7422|    3| 4530|\n",
      "|    Attema Sales|  117 E 13th St|         Pella|641  -628-4983| null| 2300|\n",
      "|     B & S Sales|  218 Maquan St|        Hanson|          null|    2| 8000|\n",
      "|            null|    PO Box 3374|South Pasadena|818  -276-8409|    2| null|\n",
      "|            null|           null|   Lees Summit|816  -524-6983|    5| 5000|\n",
      "|    Attema Sales|   100 D Meg St|        Hanson|641  -628-4983| null| 2000|\n",
      "|    Lovi Rental |         Meg Ct| Sandy Springs|800  -700-8422|    4| 6000|\n",
      "+----------------+---------------+--------------+--------------+-----+-----+\n",
      "\n"
     ]
    }
   ],
   "source": [
    "spark_df = (spark_session\n",
    "            .read\n",
    "            .csv(\"file:///mnt/92D26AE0D26AC7D5/Python/pyspark/ararental_2.csv\", header=True, inferSchema=True))\n",
    "spark_df.show()"
   ]
  },
  {
   "cell_type": "code",
   "execution_count": 29,
   "id": "030a5e15",
   "metadata": {},
   "outputs": [
    {
     "data": {
      "text/plain": [
       "pyspark.sql.group.GroupedData"
      ]
     },
     "execution_count": 29,
     "metadata": {},
     "output_type": "execute_result"
    }
   ],
   "source": [
    "# here I drop null row for Years and Sales\n",
    "spark_df = spark_df.na.drop(subset=[\"Years\", \"Sales\"])\n",
    "\n",
    "# we can use groupBy() method to group data and note that this wil return GroupData object\n",
    "# so we can't use show() here\n",
    "type(spark_df.groupBy(\"City\"))"
   ]
  },
  {
   "cell_type": "code",
   "execution_count": 33,
   "id": "0c4b1e11",
   "metadata": {},
   "outputs": [
    {
     "name": "stdout",
     "output_type": "stream",
     "text": [
      "+-------------+----------+----------+\n",
      "|         City|sum(Years)|sum(Sales)|\n",
      "+-------------+----------+----------+\n",
      "|Sandy Springs|         7|     10530|\n",
      "|       Hanson|         2|      8000|\n",
      "|  Lees Summit|         5|      5000|\n",
      "+-------------+----------+----------+\n",
      "\n"
     ]
    }
   ],
   "source": [
    "# actualy from here we are going to group data and apply aggregate functions like sum(), count(), mean(), etc\n",
    "# here we can get sum for all possible columns by group them by \"City\"\n",
    "spark_df.groupBy(\"City\").sum().show()"
   ]
  },
  {
   "cell_type": "code",
   "execution_count": 34,
   "id": "36508462",
   "metadata": {},
   "outputs": [
    {
     "name": "stdout",
     "output_type": "stream",
     "text": [
      "+-------------+----------+\n",
      "|         City|sum(Sales)|\n",
      "+-------------+----------+\n",
      "|Sandy Springs|     10530|\n",
      "|       Hanson|      8000|\n",
      "|  Lees Summit|      5000|\n",
      "+-------------+----------+\n",
      "\n"
     ]
    }
   ],
   "source": [
    "# here we can get sum for given columns by group them by \"City\"\n",
    "spark_df.select([\"Sales\", \"City\"]).groupBy(\"City\").sum().show()"
   ]
  },
  {
   "cell_type": "code",
   "execution_count": 35,
   "id": "5f1a3c16",
   "metadata": {},
   "outputs": [
    {
     "name": "stdout",
     "output_type": "stream",
     "text": [
      "+-------------+----------+\n",
      "|         City|avg(Sales)|\n",
      "+-------------+----------+\n",
      "|Sandy Springs|    5265.0|\n",
      "|       Hanson|    8000.0|\n",
      "|  Lees Summit|    5000.0|\n",
      "+-------------+----------+\n",
      "\n"
     ]
    }
   ],
   "source": [
    "# here we can get mean for given columns by group them by \"City\"\n",
    "spark_df.select([\"Sales\", \"City\"]).groupBy(\"City\").mean().show()"
   ]
  },
  {
   "cell_type": "code",
   "execution_count": 36,
   "id": "01e2c662",
   "metadata": {},
   "outputs": [
    {
     "name": "stdout",
     "output_type": "stream",
     "text": [
      "+-------------+-----+\n",
      "|         City|count|\n",
      "+-------------+-----+\n",
      "|Sandy Springs|    2|\n",
      "|       Hanson|    1|\n",
      "|  Lees Summit|    1|\n",
      "+-------------+-----+\n",
      "\n"
     ]
    }
   ],
   "source": [
    "# here we can get count for given columns by group them by \"City\"\n",
    "spark_df.select([\"Sales\", \"City\"]).groupBy(\"City\").count().show()"
   ]
  },
  {
   "cell_type": "code",
   "execution_count": 42,
   "id": "351c2b4f",
   "metadata": {},
   "outputs": [
    {
     "name": "stdout",
     "output_type": "stream",
     "text": [
      "+----------+\n",
      "|sum(Sales)|\n",
      "+----------+\n",
      "|     23530|\n",
      "+----------+\n",
      "\n"
     ]
    }
   ],
   "source": [
    "# we can also apply aggregate functions directly\n",
    "spark_df.agg({\"Sales\":\"sum\"}).show()"
   ]
  },
  {
   "cell_type": "code",
   "execution_count": null,
   "id": "25bdfb34",
   "metadata": {},
   "outputs": [],
   "source": [
    "\n"
   ]
  }
 ],
 "metadata": {
  "kernelspec": {
   "display_name": "venv",
   "language": "python",
   "name": "venv"
  },
  "language_info": {
   "codemirror_mode": {
    "name": "ipython",
    "version": 3
   },
   "file_extension": ".py",
   "mimetype": "text/x-python",
   "name": "python",
   "nbconvert_exporter": "python",
   "pygments_lexer": "ipython3",
   "version": "3.8.8"
  }
 },
 "nbformat": 4,
 "nbformat_minor": 5
}
