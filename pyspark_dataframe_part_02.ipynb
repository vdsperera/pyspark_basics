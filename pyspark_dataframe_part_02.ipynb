{
 "cells": [
  {
   "cell_type": "markdown",
   "id": "b7afd1ae",
   "metadata": {},
   "source": [
    "Here we are going to learn how to,\n",
    "\n",
    "* drop rows with null values based on different criterias\n",
    "* handle null values by replacing them"
   ]
  },
  {
   "cell_type": "code",
   "execution_count": 67,
   "id": "06df3781",
   "metadata": {},
   "outputs": [],
   "source": [
    "from pyspark.sql import SparkSession"
   ]
  },
  {
   "cell_type": "code",
   "execution_count": 68,
   "id": "aaa0602c",
   "metadata": {},
   "outputs": [
    {
     "data": {
      "text/html": [
       "\n",
       "            <div>\n",
       "                <p><b>SparkSession - in-memory</b></p>\n",
       "                \n",
       "        <div>\n",
       "            <p><b>SparkContext</b></p>\n",
       "\n",
       "            <p><a href=\"http://192.168.123.24:4042\">Spark UI</a></p>\n",
       "\n",
       "            <dl>\n",
       "              <dt>Version</dt>\n",
       "                <dd><code>v3.3.0</code></dd>\n",
       "              <dt>Master</dt>\n",
       "                <dd><code>local[*]</code></dd>\n",
       "              <dt>AppName</dt>\n",
       "                <dd><code>pyspark_dataframe_part_02</code></dd>\n",
       "            </dl>\n",
       "        </div>\n",
       "        \n",
       "            </div>\n",
       "        "
      ],
      "text/plain": [
       "<pyspark.sql.session.SparkSession at 0x7f9222d422b0>"
      ]
     },
     "execution_count": 68,
     "metadata": {},
     "output_type": "execute_result"
    }
   ],
   "source": [
    "spark_session = SparkSession.builder.appName(\"pyspark_dataframe_part_02\").getOrCreate()\n",
    "spark_session"
   ]
  },
  {
   "cell_type": "code",
   "execution_count": 69,
   "id": "6e62454e",
   "metadata": {},
   "outputs": [
    {
     "name": "stdout",
     "output_type": "stream",
     "text": [
      "+---------+-----------+---------------+--------------+--------------+--------------+-----+-----+\n",
      "|Vendor_ID|Vendor_Name|        Address|          City|  Phone Number|           Fax|Years|Sales|\n",
      "+---------+-----------+---------------+--------------+--------------+--------------+-----+-----+\n",
      "|   185227|        AMR|100 Grantley Ct| Sandy Springs|714  -580-4291|800  -714-7422|    3| 4530|\n",
      "|    16054|       ARMS|  117 E 13th St|         Pella|952  -913-2229|641  -628-4983| null| 2300|\n",
      "|   195852|      B & S|  218 Maquan St|        Hanson|781  -760-4590|          null|    2| 8000|\n",
      "|    35600|       null|    PO Box 3374|South Pasadena|626  -367-9157|818  -276-8409|    2| null|\n",
      "|      761|       null|           null|   Lees Summit|816  -524-9666|816  -524-6983|    5| 5000|\n",
      "+---------+-----------+---------------+--------------+--------------+--------------+-----+-----+\n",
      "\n"
     ]
    }
   ],
   "source": [
    "spark_df = spark_session.read.csv(\"file:///mnt/92D26AE0D26AC7D5/Python/pyspark/ararental.csv\", header=True, inferSchema=True)\n",
    "spark_df.show()"
   ]
  },
  {
   "cell_type": "code",
   "execution_count": 70,
   "id": "3c414a9d",
   "metadata": {
    "scrolled": false
   },
   "outputs": [
    {
     "name": "stdout",
     "output_type": "stream",
     "text": [
      "+---------+-----------+---------------+-------------+--------------+--------------+-----+-----+\n",
      "|Vendor_ID|Vendor_Name|        Address|         City|  Phone Number|           Fax|Years|Sales|\n",
      "+---------+-----------+---------------+-------------+--------------+--------------+-----+-----+\n",
      "|   185227|        AMR|100 Grantley Ct|Sandy Springs|714  -580-4291|800  -714-7422|    3| 4530|\n",
      "+---------+-----------+---------------+-------------+--------------+--------------+-----+-----+\n",
      "\n"
     ]
    }
   ],
   "source": [
    "# with na.drop() we can drop all rows which contain null values(each field should contain null value)\n",
    "spark_df.na.drop().show()"
   ]
  },
  {
   "cell_type": "code",
   "execution_count": 71,
   "id": "77fa58fa",
   "metadata": {
    "scrolled": true
   },
   "outputs": [
    {
     "name": "stdout",
     "output_type": "stream",
     "text": [
      "+---------+-----------+---------------+--------------+--------------+--------------+-----+-----+\n",
      "|Vendor_ID|Vendor_Name|        Address|          City|  Phone Number|           Fax|Years|Sales|\n",
      "+---------+-----------+---------------+--------------+--------------+--------------+-----+-----+\n",
      "|   185227|        AMR|100 Grantley Ct| Sandy Springs|714  -580-4291|800  -714-7422|    3| 4530|\n",
      "|    16054|       ARMS|  117 E 13th St|         Pella|952  -913-2229|641  -628-4983| null| 2300|\n",
      "|   195852|      B & S|  218 Maquan St|        Hanson|781  -760-4590|          null|    2| 8000|\n",
      "|    35600|       null|    PO Box 3374|South Pasadena|626  -367-9157|818  -276-8409|    2| null|\n",
      "|      761|       null|           null|   Lees Summit|816  -524-9666|816  -524-6983|    5| 5000|\n",
      "+---------+-----------+---------------+--------------+--------------+--------------+-----+-----+\n",
      "\n"
     ]
    }
   ],
   "source": [
    "# there are three arguments we can use with drop as 'how', 'thresh' and 'subset'\n",
    "# by set 'how' value as 'all' we can drop all rows with all values are null \n",
    "spark_df.na.drop(how=\"all\").show()"
   ]
  },
  {
   "cell_type": "code",
   "execution_count": 72,
   "id": "97d0ff82",
   "metadata": {
    "scrolled": true
   },
   "outputs": [
    {
     "name": "stdout",
     "output_type": "stream",
     "text": [
      "+---------+-----------+---------------+-------------+--------------+--------------+-----+-----+\n",
      "|Vendor_ID|Vendor_Name|        Address|         City|  Phone Number|           Fax|Years|Sales|\n",
      "+---------+-----------+---------------+-------------+--------------+--------------+-----+-----+\n",
      "|   185227|        AMR|100 Grantley Ct|Sandy Springs|714  -580-4291|800  -714-7422|    3| 4530|\n",
      "+---------+-----------+---------------+-------------+--------------+--------------+-----+-----+\n",
      "\n"
     ]
    }
   ],
   "source": [
    "# by set 'how' value as 'any' we can drop all rows with any value is null \n",
    "# this work similar to spark_df.na.drop()\n",
    "spark_df.na.drop(how=\"any\").show()"
   ]
  },
  {
   "cell_type": "code",
   "execution_count": 73,
   "id": "7c00d1ba",
   "metadata": {
    "scrolled": true
   },
   "outputs": [
    {
     "name": "stdout",
     "output_type": "stream",
     "text": [
      "+---------+-----------+---------------+--------------+--------------+--------------+-----+-----+\n",
      "|Vendor_ID|Vendor_Name|        Address|          City|  Phone Number|           Fax|Years|Sales|\n",
      "+---------+-----------+---------------+--------------+--------------+--------------+-----+-----+\n",
      "|   185227|        AMR|100 Grantley Ct| Sandy Springs|714  -580-4291|800  -714-7422|    3| 4530|\n",
      "|    16054|       ARMS|  117 E 13th St|         Pella|952  -913-2229|641  -628-4983| null| 2300|\n",
      "|   195852|      B & S|  218 Maquan St|        Hanson|781  -760-4590|          null|    2| 8000|\n",
      "|    35600|       null|    PO Box 3374|South Pasadena|626  -367-9157|818  -276-8409|    2| null|\n",
      "|      761|       null|           null|   Lees Summit|816  -524-9666|816  -524-6983|    5| 5000|\n",
      "+---------+-----------+---------------+--------------+--------------+--------------+-----+-----+\n",
      "\n"
     ]
    }
   ],
   "source": [
    "# by set 'thresh' value as some integer and this means, each row should have at least given number of non-null values and if not it should be dropped\n",
    "# here if the row not contain at least 5 non-null values, then drop it\n",
    "spark_df.na.drop(thresh=5).show()"
   ]
  },
  {
   "cell_type": "code",
   "execution_count": 74,
   "id": "22cfdd5b",
   "metadata": {},
   "outputs": [
    {
     "name": "stdout",
     "output_type": "stream",
     "text": [
      "+---------+-----------+---------------+--------------+--------------+--------------+-----+-----+\n",
      "|Vendor_ID|Vendor_Name|        Address|          City|  Phone Number|           Fax|Years|Sales|\n",
      "+---------+-----------+---------------+--------------+--------------+--------------+-----+-----+\n",
      "|   185227|        AMR|100 Grantley Ct| Sandy Springs|714  -580-4291|800  -714-7422|    3| 4530|\n",
      "|    16054|       ARMS|  117 E 13th St|         Pella|952  -913-2229|641  -628-4983| null| 2300|\n",
      "|    35600|       null|    PO Box 3374|South Pasadena|626  -367-9157|818  -276-8409|    2| null|\n",
      "+---------+-----------+---------------+--------------+--------------+--------------+-----+-----+\n",
      "\n"
     ]
    }
   ],
   "source": [
    "# with 'subset' we can define which columns should be considered for null-drop operation and other columns are not considered\n",
    "spark_df.na.drop(subset=[\"Address\", \"Fax\"]).show()"
   ]
  },
  {
   "cell_type": "code",
   "execution_count": 75,
   "id": "f707d583",
   "metadata": {},
   "outputs": [
    {
     "name": "stdout",
     "output_type": "stream",
     "text": [
      "+---------+-----------+---------------+--------------+--------------+--------------+-----+-----+\n",
      "|Vendor_ID|Vendor_Name|        Address|          City|  Phone Number|           Fax|Years|Sales|\n",
      "+---------+-----------+---------------+--------------+--------------+--------------+-----+-----+\n",
      "|   185227|        AMR|100 Grantley Ct| Sandy Springs|714  -580-4291|800  -714-7422|    3| 4530|\n",
      "|    16054|       ARMS|  117 E 13th St|         Pella|952  -913-2229|641  -628-4983| null| 2300|\n",
      "|   195852|      B & S|  218 Maquan St|        Hanson|781  -760-4590|          null|    2| 8000|\n",
      "|    35600|       null|    PO Box 3374|South Pasadena|626  -367-9157|818  -276-8409|    2| null|\n",
      "|      761|       null|           null|   Lees Summit|816  -524-9666|816  -524-6983|    5| 5000|\n",
      "+---------+-----------+---------------+--------------+--------------+--------------+-----+-----+\n",
      "\n"
     ]
    }
   ],
   "source": [
    "# we can use combinations of these arguments\n",
    "# here I drop each row if its' both \"Vendor_Name\" and \"Fax\" values are null\n",
    "spark_df.na.drop(how=\"all\", subset=[\"Vendor_Name\", \"Fax\"]).show()"
   ]
  },
  {
   "cell_type": "code",
   "execution_count": 76,
   "id": "36689f72",
   "metadata": {},
   "outputs": [
    {
     "name": "stdout",
     "output_type": "stream",
     "text": [
      "+---------+-----------+---------------+--------------+--------------+--------------+-----+-----+\n",
      "|Vendor_ID|Vendor_Name|        Address|          City|  Phone Number|           Fax|Years|Sales|\n",
      "+---------+-----------+---------------+--------------+--------------+--------------+-----+-----+\n",
      "|   185227|        AMR|100 Grantley Ct| Sandy Springs|714  -580-4291|800  -714-7422|    3| 4530|\n",
      "|    16054|       ARMS|  117 E 13th St|         Pella|952  -913-2229|641  -628-4983| null| 2300|\n",
      "|   195852|      B & S|  218 Maquan St|        Hanson|781  -760-4590|        FILLED|    2| 8000|\n",
      "|    35600|     FILLED|    PO Box 3374|South Pasadena|626  -367-9157|818  -276-8409|    2| null|\n",
      "|      761|     FILLED|         FILLED|   Lees Summit|816  -524-9666|816  -524-6983|    5| 5000|\n",
      "+---------+-----------+---------------+--------------+--------------+--------------+-----+-----+\n",
      "\n"
     ]
    }
   ],
   "source": [
    "# now we are going to fill all the missing values\n",
    "spark_df.na.fill(\"FILLED\").show()"
   ]
  },
  {
   "cell_type": "code",
   "execution_count": 77,
   "id": "ef92f039",
   "metadata": {},
   "outputs": [
    {
     "name": "stdout",
     "output_type": "stream",
     "text": [
      "+---------+-----------+---------------+--------------+--------------+--------------+-----+-----+\n",
      "|Vendor_ID|Vendor_Name|        Address|          City|  Phone Number|           Fax|Years|Sales|\n",
      "+---------+-----------+---------------+--------------+--------------+--------------+-----+-----+\n",
      "|   185227|        AMR|100 Grantley Ct| Sandy Springs|714  -580-4291|800  -714-7422|    3| 4530|\n",
      "|    16054|       ARMS|  117 E 13th St|         Pella|952  -913-2229|641  -628-4983| null| 2300|\n",
      "|   195852|      B & S|  218 Maquan St|        Hanson|781  -760-4590|          null|    2| 8000|\n",
      "|    35600|     FILLED|    PO Box 3374|South Pasadena|626  -367-9157|818  -276-8409|    2| null|\n",
      "|      761|     FILLED|         FILLED|   Lees Summit|816  -524-9666|816  -524-6983|    5| 5000|\n",
      "+---------+-----------+---------------+--------------+--------------+--------------+-----+-----+\n",
      "\n"
     ]
    }
   ],
   "source": [
    "# here we going to fill missing values for given columns\n",
    "spark_df.na.fill(\"FILLED\", [\"Vendor_Name\", \"Address\"]).show()"
   ]
  },
  {
   "cell_type": "code",
   "execution_count": 78,
   "id": "2e72505f",
   "metadata": {},
   "outputs": [],
   "source": [
    "# now we are going to replace null values with calculated values\n",
    "from pyspark.ml.feature import Imputer\n",
    "\n",
    "cols = [\"Years\", \"Sales\"]\n",
    "imputer = Imputer(\n",
    "    inputCols=cols,\n",
    "    outputCols=[\"Imp_{}\".format(col) for col in cols],\n",
    ").setStrategy(\"mean\")"
   ]
  },
  {
   "cell_type": "code",
   "execution_count": 79,
   "id": "926b6cac",
   "metadata": {
    "scrolled": true
   },
   "outputs": [
    {
     "name": "stdout",
     "output_type": "stream",
     "text": [
      "+---------+-----------+---------------+--------------+--------------+--------------+-----+-----+---------+---------+\n",
      "|Vendor_ID|Vendor_Name|        Address|          City|  Phone Number|           Fax|Years|Sales|Imp_Years|Imp_Sales|\n",
      "+---------+-----------+---------------+--------------+--------------+--------------+-----+-----+---------+---------+\n",
      "|   185227|        AMR|100 Grantley Ct| Sandy Springs|714  -580-4291|800  -714-7422|    3| 4530|        3|     4530|\n",
      "|    16054|       ARMS|  117 E 13th St|         Pella|952  -913-2229|641  -628-4983| null| 2300|        3|     2300|\n",
      "|   195852|      B & S|  218 Maquan St|        Hanson|781  -760-4590|          null|    2| 8000|        2|     8000|\n",
      "|    35600|       null|    PO Box 3374|South Pasadena|626  -367-9157|818  -276-8409|    2| null|        2|     4957|\n",
      "|      761|       null|           null|   Lees Summit|816  -524-9666|816  -524-6983|    5| 5000|        5|     5000|\n",
      "+---------+-----------+---------------+--------------+--------------+--------------+-----+-----+---------+---------+\n",
      "\n"
     ]
    }
   ],
   "source": [
    "imputer.fit(spark_df).transform(spark_df).show()"
   ]
  },
  {
   "cell_type": "code",
   "execution_count": null,
   "id": "a5371620",
   "metadata": {},
   "outputs": [],
   "source": []
  }
 ],
 "metadata": {
  "kernelspec": {
   "display_name": "Python 3",
   "language": "python",
   "name": "python3"
  },
  "language_info": {
   "codemirror_mode": {
    "name": "ipython",
    "version": 3
   },
   "file_extension": ".py",
   "mimetype": "text/x-python",
   "name": "python",
   "nbconvert_exporter": "python",
   "pygments_lexer": "ipython3",
   "version": "3.8.8"
  }
 },
 "nbformat": 4,
 "nbformat_minor": 5
}
