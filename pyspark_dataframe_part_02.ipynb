{
 "cells": [
  {
   "cell_type": "markdown",
   "id": "7bf5af83",
   "metadata": {},
   "source": [
    "Here we are going to learn how to,\n",
    "\n",
    "* drop rows with null values based on different criterias\n",
    "* handle null values by replacing them"
   ]
  },
  {
   "cell_type": "code",
   "execution_count": 1,
   "id": "46eb23b8",
   "metadata": {},
   "outputs": [],
   "source": [
    "from pyspark.sql import SparkSession"
   ]
  },
  {
   "cell_type": "code",
   "execution_count": 2,
   "id": "2826630e",
   "metadata": {},
   "outputs": [
    {
     "data": {
      "text/html": [
       "\n",
       "            <div>\n",
       "                <p><b>SparkSession - in-memory</b></p>\n",
       "                \n",
       "        <div>\n",
       "            <p><b>SparkContext</b></p>\n",
       "\n",
       "            <p><a href=\"http://192.168.123.24:4042\">Spark UI</a></p>\n",
       "\n",
       "            <dl>\n",
       "              <dt>Version</dt>\n",
       "                <dd><code>v3.3.0</code></dd>\n",
       "              <dt>Master</dt>\n",
       "                <dd><code>local[*]</code></dd>\n",
       "              <dt>AppName</dt>\n",
       "                <dd><code>pyspark_dataframe_part_02</code></dd>\n",
       "            </dl>\n",
       "        </div>\n",
       "        \n",
       "            </div>\n",
       "        "
      ],
      "text/plain": [
       "<pyspark.sql.session.SparkSession at 0x7f9222d422b0>"
      ]
     },
     "execution_count": 2,
     "metadata": {},
     "output_type": "execute_result"
    }
   ],
   "source": [
    "spark_session = SparkSession.builder.appName(\"pyspark_dataframe_part_02\").getOrCreate()\n",
    "spark_session"
   ]
  },
  {
   "cell_type": "code",
   "execution_count": 9,
   "id": "536597ae",
   "metadata": {},
   "outputs": [
    {
     "name": "stdout",
     "output_type": "stream",
     "text": [
      "+---------+--------------------+---------------+--------------+--------------+--------------+-----+\n",
      "|Vendor_ID|         Vendor_Name|        Address|          City|  Phone Number|           Fax|Years|\n",
      "+---------+--------------------+---------------+--------------+--------------+--------------+-----+\n",
      "|   185227|American Rental S...|100 Grantley Ct| Sandy Springs|714  -580-4291|800  -714-7422|    3|\n",
      "|    16054|        Attema Sales|  117 E 13th St|         Pella|952  -913-2229|641  -628-4983|    4|\n",
      "|   195852|         B & S Sales|  218 Maquan St|        Hanson|781  -760-4590|          null|    2|\n",
      "|    35600|                null|    PO Box 3374|South Pasadena|626  -367-9157|818  -276-8409|    2|\n",
      "|      761|                null|           null|   Lees Summit|816  -524-9666|816  -524-6983|    5|\n",
      "+---------+--------------------+---------------+--------------+--------------+--------------+-----+\n",
      "\n"
     ]
    }
   ],
   "source": [
    "spark_df = spark_session.read.csv(\"file:///mnt/92D26AE0D26AC7D5/Python/pyspark/ararental.csv\", header=True, inferSchema=True)\n",
    "spark_df.show()"
   ]
  },
  {
   "cell_type": "code",
   "execution_count": 18,
   "id": "980b5b84",
   "metadata": {
    "scrolled": false
   },
   "outputs": [
    {
     "name": "stdout",
     "output_type": "stream",
     "text": [
      "+---------+--------------------+---------------+-------------+--------------+--------------+-----+\n",
      "|Vendor_ID|         Vendor_Name|        Address|         City|  Phone Number|           Fax|Years|\n",
      "+---------+--------------------+---------------+-------------+--------------+--------------+-----+\n",
      "|   185227|American Rental S...|100 Grantley Ct|Sandy Springs|714  -580-4291|800  -714-7422|    3|\n",
      "|    16054|        Attema Sales|  117 E 13th St|        Pella|952  -913-2229|641  -628-4983|    4|\n",
      "+---------+--------------------+---------------+-------------+--------------+--------------+-----+\n",
      "\n"
     ]
    }
   ],
   "source": [
    "# with na.drop() we can drop all rows which contain null values(each field should contain null value)\n",
    "spark_df.na.drop().show()"
   ]
  },
  {
   "cell_type": "code",
   "execution_count": 20,
   "id": "666a415b",
   "metadata": {
    "scrolled": true
   },
   "outputs": [
    {
     "name": "stdout",
     "output_type": "stream",
     "text": [
      "+---------+--------------------+---------------+--------------+--------------+--------------+-----+\n",
      "|Vendor_ID|         Vendor_Name|        Address|          City|  Phone Number|           Fax|Years|\n",
      "+---------+--------------------+---------------+--------------+--------------+--------------+-----+\n",
      "|   185227|American Rental S...|100 Grantley Ct| Sandy Springs|714  -580-4291|800  -714-7422|    3|\n",
      "|    16054|        Attema Sales|  117 E 13th St|         Pella|952  -913-2229|641  -628-4983|    4|\n",
      "|   195852|         B & S Sales|  218 Maquan St|        Hanson|781  -760-4590|          null|    2|\n",
      "|    35600|                null|    PO Box 3374|South Pasadena|626  -367-9157|818  -276-8409|    2|\n",
      "|      761|                null|           null|   Lees Summit|816  -524-9666|816  -524-6983|    5|\n",
      "+---------+--------------------+---------------+--------------+--------------+--------------+-----+\n",
      "\n"
     ]
    }
   ],
   "source": [
    "# there are three arguments we can use with drop as 'how', 'thresh' and 'subset'\n",
    "# by set 'how' value as 'all' we can drop all rows with all values are null \n",
    "spark_df.na.drop(how=\"all\").show()"
   ]
  },
  {
   "cell_type": "code",
   "execution_count": 22,
   "id": "d9e78c4e",
   "metadata": {
    "scrolled": true
   },
   "outputs": [
    {
     "name": "stdout",
     "output_type": "stream",
     "text": [
      "+---------+--------------------+---------------+-------------+--------------+--------------+-----+\n",
      "|Vendor_ID|         Vendor_Name|        Address|         City|  Phone Number|           Fax|Years|\n",
      "+---------+--------------------+---------------+-------------+--------------+--------------+-----+\n",
      "|   185227|American Rental S...|100 Grantley Ct|Sandy Springs|714  -580-4291|800  -714-7422|    3|\n",
      "|    16054|        Attema Sales|  117 E 13th St|        Pella|952  -913-2229|641  -628-4983|    4|\n",
      "+---------+--------------------+---------------+-------------+--------------+--------------+-----+\n",
      "\n"
     ]
    }
   ],
   "source": [
    "# by set 'how' value as 'any' we can drop all rows with any value is null \n",
    "# this work similar to spark_df.na.drop()\n",
    "spark_df.na.drop(how=\"any\").show()"
   ]
  },
  {
   "cell_type": "code",
   "execution_count": 26,
   "id": "03bbfcaf",
   "metadata": {
    "scrolled": true
   },
   "outputs": [
    {
     "name": "stdout",
     "output_type": "stream",
     "text": [
      "+---------+--------------------+---------------+--------------+--------------+--------------+-----+\n",
      "|Vendor_ID|         Vendor_Name|        Address|          City|  Phone Number|           Fax|Years|\n",
      "+---------+--------------------+---------------+--------------+--------------+--------------+-----+\n",
      "|   185227|American Rental S...|100 Grantley Ct| Sandy Springs|714  -580-4291|800  -714-7422|    3|\n",
      "|    16054|        Attema Sales|  117 E 13th St|         Pella|952  -913-2229|641  -628-4983|    4|\n",
      "|   195852|         B & S Sales|  218 Maquan St|        Hanson|781  -760-4590|          null|    2|\n",
      "|    35600|                null|    PO Box 3374|South Pasadena|626  -367-9157|818  -276-8409|    2|\n",
      "|      761|                null|           null|   Lees Summit|816  -524-9666|816  -524-6983|    5|\n",
      "+---------+--------------------+---------------+--------------+--------------+--------------+-----+\n",
      "\n"
     ]
    }
   ],
   "source": [
    "# by set 'thresh' value as some integer and this means, each row should have at least given number of non-null values and if not it should be dropped\n",
    "# here if the row not contain at least 5 non-null values, then drop it\n",
    "spark_df.na.drop(thresh=5).show()"
   ]
  },
  {
   "cell_type": "code",
   "execution_count": 30,
   "id": "ec6bdb41",
   "metadata": {},
   "outputs": [
    {
     "name": "stdout",
     "output_type": "stream",
     "text": [
      "+---------+--------------------+---------------+--------------+--------------+--------------+-----+\n",
      "|Vendor_ID|         Vendor_Name|        Address|          City|  Phone Number|           Fax|Years|\n",
      "+---------+--------------------+---------------+--------------+--------------+--------------+-----+\n",
      "|   185227|American Rental S...|100 Grantley Ct| Sandy Springs|714  -580-4291|800  -714-7422|    3|\n",
      "|    16054|        Attema Sales|  117 E 13th St|         Pella|952  -913-2229|641  -628-4983|    4|\n",
      "|    35600|                null|    PO Box 3374|South Pasadena|626  -367-9157|818  -276-8409|    2|\n",
      "+---------+--------------------+---------------+--------------+--------------+--------------+-----+\n",
      "\n"
     ]
    }
   ],
   "source": [
    "# with 'subset' we can define which columns should be considered for null-drop operation and other columns are not considered\n",
    "spark_df.na.drop(subset=[\"Address\", \"Fax\"]).show()"
   ]
  },
  {
   "cell_type": "code",
   "execution_count": 35,
   "id": "591b9faf",
   "metadata": {},
   "outputs": [
    {
     "name": "stdout",
     "output_type": "stream",
     "text": [
      "+---------+--------------------+---------------+--------------+--------------+--------------+-----+\n",
      "|Vendor_ID|         Vendor_Name|        Address|          City|  Phone Number|           Fax|Years|\n",
      "+---------+--------------------+---------------+--------------+--------------+--------------+-----+\n",
      "|   185227|American Rental S...|100 Grantley Ct| Sandy Springs|714  -580-4291|800  -714-7422|    3|\n",
      "|    16054|        Attema Sales|  117 E 13th St|         Pella|952  -913-2229|641  -628-4983|    4|\n",
      "|   195852|         B & S Sales|  218 Maquan St|        Hanson|781  -760-4590|          null|    2|\n",
      "|    35600|                null|    PO Box 3374|South Pasadena|626  -367-9157|818  -276-8409|    2|\n",
      "|      761|                null|           null|   Lees Summit|816  -524-9666|816  -524-6983|    5|\n",
      "+---------+--------------------+---------------+--------------+--------------+--------------+-----+\n",
      "\n"
     ]
    }
   ],
   "source": [
    "# we can use combinations of these arguments\n",
    "# here I drop each row if its' both \"Vendor_Name\" and \"Fax\" values are null\n",
    "spark_df.na.drop(how=\"all\", subset=[\"Vendor_Name\", \"Fax\"]).show()"
   ]
  },
  {
   "cell_type": "code",
   "execution_count": 37,
   "id": "02608035",
   "metadata": {},
   "outputs": [
    {
     "name": "stdout",
     "output_type": "stream",
     "text": [
      "+---------+--------------------+---------------+--------------+--------------+--------------+-----+\n",
      "|Vendor_ID|         Vendor_Name|        Address|          City|  Phone Number|           Fax|Years|\n",
      "+---------+--------------------+---------------+--------------+--------------+--------------+-----+\n",
      "|   185227|American Rental S...|100 Grantley Ct| Sandy Springs|714  -580-4291|800  -714-7422|    3|\n",
      "|    16054|        Attema Sales|  117 E 13th St|         Pella|952  -913-2229|641  -628-4983|    4|\n",
      "|   195852|         B & S Sales|  218 Maquan St|        Hanson|781  -760-4590|        FILLED|    2|\n",
      "|    35600|              FILLED|    PO Box 3374|South Pasadena|626  -367-9157|818  -276-8409|    2|\n",
      "|      761|              FILLED|         FILLED|   Lees Summit|816  -524-9666|816  -524-6983|    5|\n",
      "+---------+--------------------+---------------+--------------+--------------+--------------+-----+\n",
      "\n"
     ]
    }
   ],
   "source": [
    "# now we are going to fill all the missing values\n",
    "spark_df.na.fill(\"FILLED\").show()"
   ]
  },
  {
   "cell_type": "code",
   "execution_count": 39,
   "id": "5c57f9e7",
   "metadata": {},
   "outputs": [
    {
     "name": "stdout",
     "output_type": "stream",
     "text": [
      "+---------+--------------------+---------------+--------------+--------------+--------------+-----+\n",
      "|Vendor_ID|         Vendor_Name|        Address|          City|  Phone Number|           Fax|Years|\n",
      "+---------+--------------------+---------------+--------------+--------------+--------------+-----+\n",
      "|   185227|American Rental S...|100 Grantley Ct| Sandy Springs|714  -580-4291|800  -714-7422|    3|\n",
      "|    16054|        Attema Sales|  117 E 13th St|         Pella|952  -913-2229|641  -628-4983|    4|\n",
      "|   195852|         B & S Sales|  218 Maquan St|        Hanson|781  -760-4590|          null|    2|\n",
      "|    35600|              FILLED|    PO Box 3374|South Pasadena|626  -367-9157|818  -276-8409|    2|\n",
      "|      761|              FILLED|         FILLED|   Lees Summit|816  -524-9666|816  -524-6983|    5|\n",
      "+---------+--------------------+---------------+--------------+--------------+--------------+-----+\n",
      "\n"
     ]
    }
   ],
   "source": [
    "# here we going to fill missing values for given columns\n",
    "spark_df.na.fill(\"FILLED\", [\"Vendor_Name\", \"Address\"]).show()"
   ]
  },
  {
   "cell_type": "code",
   "execution_count": 41,
   "id": "be28dc56",
   "metadata": {},
   "outputs": [],
   "source": [
    "# now we are going to replace null values with calculated values\n",
    "from pyspark.ml.feature import Imputer\n",
    "\n",
    "imputer = Imputer(\n",
    "    inputCols=[\"Years\"],\n",
    "    outputCols=[\"Imp_{}\".format(col) for col in [\"Years\"]],\n",
    ").setStrategy(\"mean\")"
   ]
  },
  {
   "cell_type": "code",
   "execution_count": null,
   "id": "cacf0250",
   "metadata": {},
   "outputs": [],
   "source": []
  }
 ],
 "metadata": {
  "kernelspec": {
   "display_name": "Python 3",
   "language": "python",
   "name": "python3"
  },
  "language_info": {
   "codemirror_mode": {
    "name": "ipython",
    "version": 3
   },
   "file_extension": ".py",
   "mimetype": "text/x-python",
   "name": "python",
   "nbconvert_exporter": "python",
   "pygments_lexer": "ipython3",
   "version": "3.8.8"
  }
 },
 "nbformat": 4,
 "nbformat_minor": 5
}
