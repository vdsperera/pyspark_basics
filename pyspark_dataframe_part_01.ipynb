{
 "cells": [
  {
   "cell_type": "markdown",
   "id": "147431e8",
   "metadata": {},
   "source": [
    "# Here we are going to cover following things\n",
    "\n",
    "* Reading dataset in csv file\n",
    "* Checking the schema of dataset(data type for each columns)\n",
    "* Selecting columns\n",
    "* Get basic statistics of dataset\n",
    "* Adding columns\n",
    "* Dropping columns\n",
    "* Renaming columns"
   ]
  },
  {
   "cell_type": "code",
   "execution_count": 2,
   "id": "1024a7cb",
   "metadata": {},
   "outputs": [],
   "source": [
    "import pyspark\n",
    "from pyspark.sql import SparkSession "
   ]
  },
  {
   "cell_type": "code",
   "execution_count": 5,
   "id": "cfcce0ec",
   "metadata": {},
   "outputs": [
    {
     "data": {
      "text/html": [
       "\n",
       "            <div>\n",
       "                <p><b>SparkSession - in-memory</b></p>\n",
       "                \n",
       "        <div>\n",
       "            <p><b>SparkContext</b></p>\n",
       "\n",
       "            <p><a href=\"http://192.168.123.24:4041\">Spark UI</a></p>\n",
       "\n",
       "            <dl>\n",
       "              <dt>Version</dt>\n",
       "                <dd><code>v3.3.0</code></dd>\n",
       "              <dt>Master</dt>\n",
       "                <dd><code>local[*]</code></dd>\n",
       "              <dt>AppName</dt>\n",
       "                <dd><code>pyspark_dataframe_part_01</code></dd>\n",
       "            </dl>\n",
       "        </div>\n",
       "        \n",
       "            </div>\n",
       "        "
      ],
      "text/plain": [
       "<pyspark.sql.session.SparkSession at 0x7f9f243b0880>"
      ]
     },
     "execution_count": 5,
     "metadata": {},
     "output_type": "execute_result"
    }
   ],
   "source": [
    "spark_session = SparkSession.builder.appName(\"pyspark_dataframe_part_01\").getOrCreate()\n",
    "spark_session"
   ]
  },
  {
   "cell_type": "code",
   "execution_count": 65,
   "id": "bcadbc51",
   "metadata": {},
   "outputs": [
    {
     "data": {
      "text/plain": [
       "DataFrame[Vendor_ID: int, Vendor_Name: string, Address: string, City: string, Phone Number: string, Fax: string]"
      ]
     },
     "execution_count": 65,
     "metadata": {},
     "output_type": "execute_result"
    }
   ],
   "source": [
    "# there are multiple ways to read csv files\n",
    "# inferSchema is used to check field data types(If it is false then all data types consider as string)\n",
    "# method 01\n",
    "pyspark_df1 = (spark_session\n",
    "               .read.csv(\"file:///mnt/92D26AE0D26AC7D5/Python/pyspark/ararental.csv\",\n",
    "                         header=True,\n",
    "                         inferSchema=True))\n",
    "pyspark_df1"
   ]
  },
  {
   "cell_type": "code",
   "execution_count": 66,
   "id": "1543b941",
   "metadata": {},
   "outputs": [
    {
     "data": {
      "text/plain": [
       "DataFrame[Vendor_ID: int, Vendor_Name: string, Address: string, City: string, Phone Number: string, Fax: string]"
      ]
     },
     "execution_count": 66,
     "metadata": {},
     "output_type": "execute_result"
    }
   ],
   "source": [
    "# method 02\n",
    "pyspark_df2 = (spark_session\n",
    "    .read.option(\"header\", True)\n",
    "    .csv(\"file:///mnt/92D26AE0D26AC7D5/Python/pyspark/ararental.csv\", inferSchema=True))\n",
    "pyspark_df2"
   ]
  },
  {
   "cell_type": "code",
   "execution_count": 67,
   "id": "e83936bc",
   "metadata": {},
   "outputs": [
    {
     "name": "stdout",
     "output_type": "stream",
     "text": [
      "root\n",
      " |-- Vendor_ID: integer (nullable = true)\n",
      " |-- Vendor_Name: string (nullable = true)\n",
      " |-- Address: string (nullable = true)\n",
      " |-- City: string (nullable = true)\n",
      " |-- Phone Number: string (nullable = true)\n",
      " |-- Fax: string (nullable = true)\n",
      "\n"
     ]
    }
   ],
   "source": [
    "# we can also use printSchema method to print data type for each field\n",
    "pyspark_df1.printSchema()"
   ]
  },
  {
   "cell_type": "code",
   "execution_count": 68,
   "id": "68c4e581",
   "metadata": {},
   "outputs": [
    {
     "name": "stdout",
     "output_type": "stream",
     "text": [
      "+---------+--------------------+--------------------+--------------+--------------+--------------+\n",
      "|Vendor_ID|         Vendor_Name|             Address|          City|  Phone Number|           Fax|\n",
      "+---------+--------------------+--------------------+--------------+--------------+--------------+\n",
      "|   185227|American Rental S...|     100 Grantley Ct| Sandy Springs|714  -580-4291|800  -714-7422|\n",
      "|    16054|        Attema Sales|       117 E 13th St|         Pella|952  -913-2229|641  -628-4983|\n",
      "|   195852|         B & S Sales|       218 Maquan St|        Hanson|781  -760-4590|          null|\n",
      "|    35600|    Beal Enterprises|         PO Box 3374|South Pasadena|626  -367-9157|818  -276-8409|\n",
      "|      761|          Billy Goat|1803 SW Jefferson St|   Lees Summit|816  -524-9666|816  -524-6983|\n",
      "+---------+--------------------+--------------------+--------------+--------------+--------------+\n",
      "\n"
     ]
    }
   ],
   "source": [
    "# show() method is used to print dataframe data\n",
    "pyspark_df1.show()"
   ]
  },
  {
   "cell_type": "code",
   "execution_count": 69,
   "id": "bac32456",
   "metadata": {},
   "outputs": [
    {
     "data": {
      "text/plain": [
       "['Vendor_ID', 'Vendor_Name', 'Address', 'City', 'Phone Number', 'Fax']"
      ]
     },
     "execution_count": 69,
     "metadata": {},
     "output_type": "execute_result"
    }
   ],
   "source": [
    "# pyspark dataframe has 'columns' that we can get its' columns as a list\n",
    "pyspark_df1.columns"
   ]
  },
  {
   "cell_type": "code",
   "execution_count": 70,
   "id": "96a2031d",
   "metadata": {},
   "outputs": [
    {
     "data": {
      "text/plain": [
       "[Row(Vendor_ID=185227, Vendor_Name='American Rental Sales Consultants', Address='100 Grantley Ct', City='Sandy Springs', Phone Number='714  -580-4291', Fax='800  -714-7422'),\n",
       " Row(Vendor_ID=16054, Vendor_Name='Attema Sales', Address='117 E 13th St', City='Pella', Phone Number='952  -913-2229', Fax='641  -628-4983'),\n",
       " Row(Vendor_ID=195852, Vendor_Name='B & S Sales', Address='218 Maquan St', City='Hanson', Phone Number='781  -760-4590', Fax=None)]"
      ]
     },
     "execution_count": 70,
     "metadata": {},
     "output_type": "execute_result"
    }
   ],
   "source": [
    "# head() method gives list of records\n",
    "pyspark_df1.head(3)"
   ]
  },
  {
   "cell_type": "code",
   "execution_count": 71,
   "id": "00006415",
   "metadata": {},
   "outputs": [
    {
     "data": {
      "text/plain": [
       "DataFrame[Vendor_ID: int, Vendor_Name: string]"
      ]
     },
     "execution_count": 71,
     "metadata": {},
     "output_type": "execute_result"
    }
   ],
   "source": [
    "# we can use select() method to select specific column or multiple columns\n",
    "selected_columns = pyspark_df1.select(\"Vendor_ID\", \"Vendor_Name\")\n",
    "selected_columns"
   ]
  },
  {
   "cell_type": "code",
   "execution_count": 72,
   "id": "339742a5",
   "metadata": {},
   "outputs": [
    {
     "data": {
      "text/plain": [
       "pyspark.sql.dataframe.DataFrame"
      ]
     },
     "execution_count": 72,
     "metadata": {},
     "output_type": "execute_result"
    }
   ],
   "source": [
    "# here we can see, selected column also is a pyspark dataframe\n",
    "type(selected_columns)"
   ]
  },
  {
   "cell_type": "code",
   "execution_count": 73,
   "id": "ff0ef61f",
   "metadata": {},
   "outputs": [
    {
     "name": "stdout",
     "output_type": "stream",
     "text": [
      "+---------+--------------------+\n",
      "|Vendor_ID|         Vendor_Name|\n",
      "+---------+--------------------+\n",
      "|   185227|American Rental S...|\n",
      "|    16054|        Attema Sales|\n",
      "|   195852|         B & S Sales|\n",
      "|    35600|    Beal Enterprises|\n",
      "|      761|          Billy Goat|\n",
      "+---------+--------------------+\n",
      "\n"
     ]
    }
   ],
   "source": [
    "# with combining select() with show() we can print data in selected column\n",
    "pyspark_df1.select(\"Vendor_ID\", \"Vendor_Name\").show()"
   ]
  },
  {
   "cell_type": "code",
   "execution_count": 74,
   "id": "7b4a327b",
   "metadata": {},
   "outputs": [
    {
     "data": {
      "text/plain": [
       "[('Vendor_ID', 'int'),\n",
       " ('Vendor_Name', 'string'),\n",
       " ('Address', 'string'),\n",
       " ('City', 'string'),\n",
       " ('Phone Number', 'string'),\n",
       " ('Fax', 'string')]"
      ]
     },
     "execution_count": 74,
     "metadata": {},
     "output_type": "execute_result"
    }
   ],
   "source": [
    "# dtypes can be used to get data type for each field like in schema\n",
    "pyspark_df1.dtypes"
   ]
  },
  {
   "cell_type": "code",
   "execution_count": 75,
   "id": "1da12534",
   "metadata": {},
   "outputs": [
    {
     "name": "stdout",
     "output_type": "stream",
     "text": [
      "+-------+---------------+--------------------+---------------+--------------+--------------+--------------+\n",
      "|summary|      Vendor_ID|         Vendor_Name|        Address|          City|  Phone Number|           Fax|\n",
      "+-------+---------------+--------------------+---------------+--------------+--------------+--------------+\n",
      "|  count|              5|                   5|              5|             5|             5|             4|\n",
      "|   mean|        86698.8|                null|           null|          null|          null|          null|\n",
      "| stddev|95667.794819887|                null|           null|          null|          null|          null|\n",
      "|    min|            761|American Rental S...|100 Grantley Ct|        Hanson|626  -367-9157|641  -628-4983|\n",
      "|    max|         195852|          Billy Goat|    PO Box 3374|South Pasadena|952  -913-2229|818  -276-8409|\n",
      "+-------+---------------+--------------------+---------------+--------------+--------------+--------------+\n",
      "\n"
     ]
    }
   ],
   "source": [
    "# with describe we can get statistical information for column\n",
    "pyspark_df1.describe().show()"
   ]
  },
  {
   "cell_type": "code",
   "execution_count": 104,
   "id": "e5ffdbf8",
   "metadata": {},
   "outputs": [
    {
     "name": "stdout",
     "output_type": "stream",
     "text": [
      "+---------+--------------------+--------------------+--------------+--------------+--------------+---------------+\n",
      "|Vendor_ID|         Vendor_Name|             Address|          City|  Phone Number|           Fax|New_Vendor_Name|\n",
      "+---------+--------------------+--------------------+--------------+--------------+--------------+---------------+\n",
      "|   185227|American Rental S...|     100 Grantley Ct| Sandy Springs|714  -580-4291|800  -714-7422|           null|\n",
      "|    16054|        Attema Sales|       117 E 13th St|         Pella|952  -913-2229|641  -628-4983|           null|\n",
      "|   195852|         B & S Sales|       218 Maquan St|        Hanson|781  -760-4590|          null|           null|\n",
      "|    35600|    Beal Enterprises|         PO Box 3374|South Pasadena|626  -367-9157|818  -276-8409|           null|\n",
      "|      761|          Billy Goat|1803 SW Jefferson St|   Lees Summit|816  -524-9666|816  -524-6983|           null|\n",
      "+---------+--------------------+--------------------+--------------+--------------+--------------+---------------+\n",
      "\n"
     ]
    }
   ],
   "source": [
    "# with column can be used to add new column to the existing dataframe\n",
    "updated_pyspark_df = pyspark_df1.withColumn(\"New_Vendor_Name\", pyspark_df1[\"Vendor_Name\"]+\"Up\")\n",
    "updated_pyspark_df.show()"
   ]
  },
  {
   "cell_type": "code",
   "execution_count": 105,
   "id": "d242793d",
   "metadata": {},
   "outputs": [
    {
     "name": "stdout",
     "output_type": "stream",
     "text": [
      "+---------+--------------------+--------------------+--------------+--------------+--------------+\n",
      "|Vendor_ID|         Vendor_Name|             Address|          City|  Phone Number|           Fax|\n",
      "+---------+--------------------+--------------------+--------------+--------------+--------------+\n",
      "|   185227|American Rental S...|     100 Grantley Ct| Sandy Springs|714  -580-4291|800  -714-7422|\n",
      "|    16054|        Attema Sales|       117 E 13th St|         Pella|952  -913-2229|641  -628-4983|\n",
      "|   195852|         B & S Sales|       218 Maquan St|        Hanson|781  -760-4590|          null|\n",
      "|    35600|    Beal Enterprises|         PO Box 3374|South Pasadena|626  -367-9157|818  -276-8409|\n",
      "|      761|          Billy Goat|1803 SW Jefferson St|   Lees Summit|816  -524-9666|816  -524-6983|\n",
      "+---------+--------------------+--------------------+--------------+--------------+--------------+\n",
      "\n"
     ]
    }
   ],
   "source": [
    "# drop() method is used to drop given column\n",
    "droped_pyspark_df = updated_pyspark_df.drop(\"New_Vendor_Name\")\n",
    "droped_pyspark_df.show()"
   ]
  },
  {
   "cell_type": "code",
   "execution_count": 109,
   "id": "bb4d454e",
   "metadata": {},
   "outputs": [
    {
     "name": "stdout",
     "output_type": "stream",
     "text": [
      "+---------+--------------------+--------------------+--------------+--------------+--------------+\n",
      "|Vendor_ID|         Vendor_Name|             Address|          City|  Phone_Number|           Fax|\n",
      "+---------+--------------------+--------------------+--------------+--------------+--------------+\n",
      "|   185227|American Rental S...|     100 Grantley Ct| Sandy Springs|714  -580-4291|800  -714-7422|\n",
      "|    16054|        Attema Sales|       117 E 13th St|         Pella|952  -913-2229|641  -628-4983|\n",
      "|   195852|         B & S Sales|       218 Maquan St|        Hanson|781  -760-4590|          null|\n",
      "|    35600|    Beal Enterprises|         PO Box 3374|South Pasadena|626  -367-9157|818  -276-8409|\n",
      "|      761|          Billy Goat|1803 SW Jefferson St|   Lees Summit|816  -524-9666|816  -524-6983|\n",
      "+---------+--------------------+--------------------+--------------+--------------+--------------+\n",
      "\n"
     ]
    }
   ],
   "source": [
    "# withColumnRenamed is used to rename given column\n",
    "renamed_pyspark_df = droped_pyspark_df.withColumnRenamed(\"Phone Number\", \"Phone_Number\")\n",
    "renamed_pyspark_df.show()"
   ]
  },
  {
   "cell_type": "code",
   "execution_count": null,
   "id": "ce4c6177",
   "metadata": {},
   "outputs": [],
   "source": []
  }
 ],
 "metadata": {
  "kernelspec": {
   "display_name": "Python 3",
   "language": "python",
   "name": "python3"
  },
  "language_info": {
   "codemirror_mode": {
    "name": "ipython",
    "version": 3
   },
   "file_extension": ".py",
   "mimetype": "text/x-python",
   "name": "python",
   "nbconvert_exporter": "python",
   "pygments_lexer": "ipython3",
   "version": "3.8.8"
  }
 },
 "nbformat": 4,
 "nbformat_minor": 5
}
