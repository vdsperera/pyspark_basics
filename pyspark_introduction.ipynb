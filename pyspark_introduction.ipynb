{
 "cells": [
  {
   "cell_type": "code",
   "execution_count": null,
   "id": "e4ced7d1",
   "metadata": {},
   "outputs": [],
   "source": [
    "!pip install pyspark"
   ]
  },
  {
   "cell_type": "code",
   "execution_count": 25,
   "id": "26a763d4",
   "metadata": {},
   "outputs": [],
   "source": [
    "import pyspark\n",
    "from pyspark.sql import SparkSession\n",
    "import pandas as pd"
   ]
  },
  {
   "cell_type": "markdown",
   "id": "074d780c",
   "metadata": {},
   "source": [
    "First thing when you want to work to work with pyspark is, creating a pyspark session. So Lets create a pyspart session"
   ]
  },
  {
   "cell_type": "code",
   "execution_count": 19,
   "id": "592a47bc",
   "metadata": {},
   "outputs": [],
   "source": [
    "spark_session = SparkSession.builder.appName(\"TestApp\").getOrCreate()"
   ]
  },
  {
   "cell_type": "code",
   "execution_count": 4,
   "id": "ae9478a7",
   "metadata": {
    "scrolled": true
   },
   "outputs": [
    {
     "data": {
      "text/html": [
       "\n",
       "            <div>\n",
       "                <p><b>SparkSession - in-memory</b></p>\n",
       "                \n",
       "        <div>\n",
       "            <p><b>SparkContext</b></p>\n",
       "\n",
       "            <p><a href=\"http://192.168.1.100:4040\">Spark UI</a></p>\n",
       "\n",
       "            <dl>\n",
       "              <dt>Version</dt>\n",
       "                <dd><code>v3.3.0</code></dd>\n",
       "              <dt>Master</dt>\n",
       "                <dd><code>local[*]</code></dd>\n",
       "              <dt>AppName</dt>\n",
       "                <dd><code>TestApp</code></dd>\n",
       "            </dl>\n",
       "        </div>\n",
       "        \n",
       "            </div>\n",
       "        "
      ],
      "text/plain": [
       "<pyspark.sql.session.SparkSession at 0x7fc0c0dfa880>"
      ]
     },
     "execution_count": 4,
     "metadata": {},
     "output_type": "execute_result"
    }
   ],
   "source": [
    "spark_session"
   ]
  },
  {
   "cell_type": "code",
   "execution_count": 27,
   "id": "aa57a85f",
   "metadata": {},
   "outputs": [
    {
     "data": {
      "text/plain": [
       "DataFrame[_c0: string, _c1: string, _c2: string, _c3: string, _c4: string, _c5: string, _c6: string, _c7: string, _c8: string, _c9: string, _c10: string, _c11: string]"
      ]
     },
     "execution_count": 27,
     "metadata": {},
     "output_type": "execute_result"
    }
   ],
   "source": [
    "\"\"\"\n",
    "Now we are going to read a csv file with pyspark\n",
    "Please the check the way how I define file path\n",
    "I have used \"file:///\" with absolute file path\n",
    "Otherwise you will get an error like \"Py4JJavaError: An error occurred while calling o102.csv.\"\n",
    "Here you can also see column names are not a way as we wanted and so we have to set it to consider header\n",
    "\"\"\"\n",
    "df = spark_session.read.csv(\"file:///mnt/92D26AE0D26AC7D5/Python/pyspark/ararental.csv\")\n",
    "df"
   ]
  },
  {
   "cell_type": "code",
   "execution_count": 32,
   "id": "f17b3f0b",
   "metadata": {},
   "outputs": [],
   "source": [
    "\"\"\"\n",
    "Here I'm going to compare pandas data frame with pyspark dataframe\n",
    "\"\"\"\n",
    "pd_df = pd.read_csv(\"ararental.csv\")"
   ]
  },
  {
   "cell_type": "code",
   "execution_count": 33,
   "id": "67703e67",
   "metadata": {},
   "outputs": [
    {
     "data": {
      "text/plain": [
       "pandas.core.frame.DataFrame"
      ]
     },
     "execution_count": 33,
     "metadata": {},
     "output_type": "execute_result"
    }
   ],
   "source": [
    "type(pd_df)"
   ]
  },
  {
   "cell_type": "code",
   "execution_count": 34,
   "id": "14a34508",
   "metadata": {},
   "outputs": [
    {
     "data": {
      "text/plain": [
       "pyspark.sql.dataframe.DataFrame"
      ]
     },
     "execution_count": 34,
     "metadata": {},
     "output_type": "execute_result"
    }
   ],
   "source": [
    "type(df)"
   ]
  },
  {
   "cell_type": "code",
   "execution_count": 12,
   "id": "636aa838",
   "metadata": {},
   "outputs": [],
   "source": [
    "df = spark_session.read.option(\"header\",\"true\").csv(\"file:///mnt/92D26AE0D26AC7D5/Python/pyspark/ararental.csv\")"
   ]
  },
  {
   "cell_type": "code",
   "execution_count": 17,
   "id": "076e6c3c",
   "metadata": {},
   "outputs": [
    {
     "data": {
      "text/plain": [
       "[Row(_c0='0', Category='Aerators', Vendor_ID='185227', Vendor_Name='American Rental Sales Consultants', Address='100 Grantley Ct', City='Sandy Springs', State='GA', Phone Number='714  -580-4291', Website='http://www.americanrentalsales.com', Fax='800  -714-7422', URL='https://www.ararental.org/Vendor-Locator/Vendor-Details/CID/185227/EXHIB/0/ShowCSE/0/ShowMS/0', _c11=None),\n",
       " Row(_c0='0', Category='Aerators', Vendor_ID='16054', Vendor_Name='Attema Sales', Address='117 E 13th St', City='Pella', State='IA', Phone Number='952  -913-2229', Website='http://www.attemasales.com', Fax='641  -628-4983', URL='https://www.ararental.org/Vendor-Locator/Vendor-Details/CID/16054/EXHIB/0/ShowCSE/0/ShowMS/0', _c11=None),\n",
       " Row(_c0='0', Category='Aerators', Vendor_ID='195852', Vendor_Name='B & S Sales', Address='218 Maquan St', City='Hanson', State='MA', Phone Number='781  -760-4590', Website='www.bssalesrep.com', Fax=None, URL='https://www.ararental.org/Vendor-Locator/Vendor-Details/CID/195852/EXHIB/0/ShowCSE/0/ShowMS/0', _c11=None)]"
      ]
     },
     "execution_count": 17,
     "metadata": {},
     "output_type": "execute_result"
    }
   ],
   "source": [
    "df.head(3)"
   ]
  },
  {
   "cell_type": "code",
   "execution_count": 18,
   "id": "ab70a8d8",
   "metadata": {},
   "outputs": [
    {
     "name": "stdout",
     "output_type": "stream",
     "text": [
      "root\n",
      " |-- _c0: string (nullable = true)\n",
      " |-- Category: string (nullable = true)\n",
      " |-- Vendor_ID: string (nullable = true)\n",
      " |-- Vendor_Name: string (nullable = true)\n",
      " |-- Address: string (nullable = true)\n",
      " |-- City: string (nullable = true)\n",
      " |-- State: string (nullable = true)\n",
      " |-- Phone Number: string (nullable = true)\n",
      " |-- Website: string (nullable = true)\n",
      " |-- Fax: string (nullable = true)\n",
      " |-- URL: string (nullable = true)\n",
      " |-- _c11: string (nullable = true)\n",
      "\n"
     ]
    }
   ],
   "source": [
    "df.printSchema()"
   ]
  },
  {
   "cell_type": "code",
   "execution_count": null,
   "id": "847d9804",
   "metadata": {},
   "outputs": [],
   "source": []
  }
 ],
 "metadata": {
  "kernelspec": {
   "display_name": "venv",
   "language": "python",
   "name": "venv"
  },
  "language_info": {
   "codemirror_mode": {
    "name": "ipython",
    "version": 3
   },
   "file_extension": ".py",
   "mimetype": "text/x-python",
   "name": "python",
   "nbconvert_exporter": "python",
   "pygments_lexer": "ipython3",
   "version": "3.8.8"
  }
 },
 "nbformat": 4,
 "nbformat_minor": 5
}
